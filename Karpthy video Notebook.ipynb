{
 "cells": [
  {
   "cell_type": "markdown",
   "metadata": {},
   "source": [
    "This notbook is inspired on Andrej Karpathy's youtube lecture about micrograd. Available on https://www.youtube.com/watch?v=VMj-3S1tku0&t=5128s "
   ]
  },
  {
   "cell_type": "code",
   "execution_count": 1,
   "metadata": {},
   "outputs": [],
   "source": [
    "import math\n",
    "import numpy as np \n",
    "import matplotlib.pyplot as plt"
   ]
  },
  {
   "cell_type": "code",
   "execution_count": 2,
   "metadata": {},
   "outputs": [],
   "source": [
    "def f(x):\n",
    "    return 3*x**2 -4*x + 5"
   ]
  },
  {
   "cell_type": "code",
   "execution_count": 3,
   "metadata": {},
   "outputs": [
    {
     "data": {
      "text/plain": [
       "[<matplotlib.lines.Line2D at 0x7fe9fd72d670>]"
      ]
     },
     "execution_count": 3,
     "metadata": {},
     "output_type": "execute_result"
    },
    {
     "data": {
      "image/png": "[encoded data removed]",
      "text/plain": [
       "<Figure size 432x288 with 1 Axes>"
      ]
     },
     "metadata": {
      "needs_background": "light"
     },
     "output_type": "display_data"
    }
   ],
   "source": [
    "xs = np.arange (-5,5,0.25)\n",
    "ys = f(xs)\n",
    "plt.plot(xs, ys)"
   ]
  },
  {
   "cell_type": "code",
   "execution_count": 4,
   "metadata": {},
   "outputs": [],
   "source": [
    "h = 0.001\n",
    "x = 3"
   ]
  },
  {
   "cell_type": "code",
   "execution_count": 5,
   "metadata": {},
   "outputs": [
    {
     "data": {
      "text/plain": [
       "14.00300000000243"
      ]
     },
     "execution_count": 5,
     "metadata": {},
     "output_type": "execute_result"
    }
   ],
   "source": [
    "# As it is excruciating to calculate the real derivative of a neural network, we go By the definition of derivative:\n",
    "# f' = (f(x+h)-f(x))/h\n",
    "# So the slope at point x is the following\n",
    "(f(x+h)-f(x))/h"
   ]
  },
  {
   "cell_type": "code",
   "execution_count": 6,
   "metadata": {},
   "outputs": [
    {
     "name": "stdout",
     "output_type": "stream",
     "text": [
      "d1:  4\n",
      "d2:  3.997\n",
      "slope:  -3.0000000000001137\n"
     ]
    }
   ],
   "source": [
    "# Getting more complex and similar to neurons in neural networks\n",
    "h=0.001\n",
    "a = 2\n",
    "b = -3\n",
    "c = 10\n",
    "\n",
    "d1 = a*b + c\n",
    "a+=h\n",
    "d2 = a*b+c\n",
    "print('d1: ',d1)\n",
    "print('d2: ',d2)\n",
    "print('slope: ',(d2-d1)/h)"
   ]
  },
  {
   "cell_type": "code",
   "execution_count": 21,
   "metadata": {},
   "outputs": [],
   "source": [
    "# This is a data structre that will maintain these expressions in neural newtworks with its expressions\n",
    "class Value:\n",
    "\n",
    "    def __init__(self, data, _children = (), _op = '', label = ''):\n",
    "        self.data = data\n",
    "        self._prev = set(_children) # Children are supposed to be tuples. _prev represents the previous value before the last operation\n",
    "        self._op = _op # Operation symbol\n",
    "        self.label = label\n",
    "\n",
    "    def __repr__(self):\n",
    "        return f\"Value(data = {self.data})\"\n",
    "    \n",
    "    def __add__(self, other):\n",
    "        # Defining these operators with these __xxx__\n",
    "        out = Value(self.data +other.data, (self, other), '+')\n",
    "        return out\n",
    "    \n",
    "    def __mul__(self, other):\n",
    "        out = Value(self.data * other.data, (self, other), '*')\n",
    "        return out\n",
    "     "
   ]
  },
  {
   "cell_type": "code",
   "execution_count": 22,
   "metadata": {},
   "outputs": [
    {
     "data": {
      "text/plain": [
       "Value(data = -8.0)"
      ]
     },
     "execution_count": 22,
     "metadata": {},
     "output_type": "execute_result"
    }
   ],
   "source": [
    "a = Value(2.0, label='a')\n",
    "b = Value(-3.0, label='b')\n",
    "c = Value(10.0, label='c')\n",
    "e = a*b; e.label = 'e'\n",
    "d = e + c; d.label = 'd'\n",
    "f = Value(-2.0, label='f')\n",
    "L = d * f; L.label = 'L'\n",
    "L"
   ]
  },
  {
   "cell_type": "code",
   "execution_count": 9,
   "metadata": {},
   "outputs": [
    {
     "data": {
      "text/plain": [
       "({Value(data = -15), Value(data = 17)}, '+')"
      ]
     },
     "execution_count": 9,
     "metadata": {},
     "output_type": "execute_result"
    }
   ],
   "source": [
    "d._prev, d._op"
   ]
  },
  {
   "cell_type": "code",
   "execution_count": 23,
   "metadata": {},
   "outputs": [],
   "source": [
    "import graphviz \n",
    "from graphviz import Digraph\n",
    "\n",
    "def trace(root):\n",
    "  # builds a set of all nodes and edges in a graph\n",
    "  nodes, edges = set(), set()\n",
    "  def build(v):\n",
    "    if v not in nodes:\n",
    "      nodes.add(v)\n",
    "      for child in v._prev:\n",
    "        edges.add((child, v))\n",
    "        build(child)\n",
    "  build(root)\n",
    "  return nodes, edges\n",
    "\n",
    "def draw_dot(root):\n",
    "  dot = Digraph(format='svg', graph_attr={'rankdir': 'LR'}) # LR = left to right\n",
    "  \n",
    "  nodes, edges = trace(root)\n",
    "  for n in nodes:\n",
    "    uid = str(id(n))\n",
    "    # for any value in the graph, create a rectangular ('record') node for it\n",
    "    dot.node(name = uid, label = \"{ %s | data %.4f }\" % ( n.label, n.data), shape='record')\n",
    "    if n._op:\n",
    "      # if this value is a result of some operation, create an op node for it\n",
    "      dot.node(name = uid + n._op, label = n._op)\n",
    "      # and connect this node to it\n",
    "      dot.edge(uid + n._op, uid)\n",
    "\n",
    "  for n1, n2 in edges:\n",
    "    # connect n1 to the op node of n2\n",
    "    dot.edge(str(id(n1)), str(id(n2)) + n2._op)\n",
    "\n",
    "  return dot"
   ]
  },
  {
   "cell_type": "code",
   "execution_count": 25,
   "metadata": {},
   "outputs": [
    {
     "data": {
      "image/svg+xml": [
       "<?xml version=\"1.0\" encoding=\"UTF-8\" standalone=\"no\"?>\n",
       "<!DOCTYPE svg PUBLIC \"-//W3C//DTD SVG 1.1//EN\"\n",
       " \"http://www.w3.org/Graphics/SVG/1.1/DTD/svg11.dtd\">\n",
       "<!-- Generated by graphviz version 2.43.0 (0)\n",
       " -->\n",
       "<!-- Title: %3 Pages: 1 -->\n",
       "<svg width=\"916pt\" height=\"128pt\"\n",
       " viewBox=\"0.00 0.00 916.00 128.00\" xmlns=\"http://www.w3.org/2000/svg\" xmlns:xlink=\"http://www.w3.org/1999/xlink\">\n",
       "<g id=\"graph0\" class=\"graph\" transform=\"scale(1 1) rotate(0) translate(4 124)\">\n",
       "<title>%3</title>\n",
       "<polygon fill=\"white\" stroke=\"transparent\" points=\"-4,4 -4,-124 912,-124 912,4 -4,4\"/>\n",
       "<!-- 140642956440240 -->\n",
       "<g id=\"node1\" class=\"node\">\n",
       "<title>140642956440240</title>\n",
       "<polygon fill=\"none\" stroke=\"black\" points=\"520.5,-27.5 520.5,-63.5 648.5,-63.5 648.5,-27.5 520.5,-27.5\"/>\n",
       "<text text-anchor=\"middle\" x=\"533.5\" y=\"-41.8\" font-family=\"Times,serif\" font-size=\"14.00\">d</text>\n",
       "<polyline fill=\"none\" stroke=\"black\" points=\"546.5,-27.5 546.5,-63.5 \"/>\n",
       "<text text-anchor=\"middle\" x=\"597.5\" y=\"-41.8\" font-family=\"Times,serif\" font-size=\"14.00\">data 4.0000</text>\n",
       "</g>\n",
       "<!-- 140642956440864* -->\n",
       "<g id=\"node4\" class=\"node\">\n",
       "<title>140642956440864*</title>\n",
       "<ellipse fill=\"none\" stroke=\"black\" cx=\"712\" cy=\"-72.5\" rx=\"27\" ry=\"18\"/>\n",
       "<text text-anchor=\"middle\" x=\"712\" y=\"-68.8\" font-family=\"Times,serif\" font-size=\"14.00\">*</text>\n",
       "</g>\n",
       "<!-- 140642956440240&#45;&gt;140642956440864* -->\n",
       "<g id=\"edge9\" class=\"edge\">\n",
       "<title>140642956440240&#45;&gt;140642956440864*</title>\n",
       "<path fill=\"none\" stroke=\"black\" d=\"M648.62,-59.08C658.08,-61.11 667.53,-63.15 676.1,-64.99\"/>\n",
       "<polygon fill=\"black\" stroke=\"black\" points=\"675.56,-68.46 686.08,-67.14 677.04,-61.61 675.56,-68.46\"/>\n",
       "</g>\n",
       "<!-- 140642956440240+ -->\n",
       "<g id=\"node2\" class=\"node\">\n",
       "<title>140642956440240+</title>\n",
       "<ellipse fill=\"none\" stroke=\"black\" cx=\"457\" cy=\"-45.5\" rx=\"27\" ry=\"18\"/>\n",
       "<text text-anchor=\"middle\" x=\"457\" y=\"-41.8\" font-family=\"Times,serif\" font-size=\"14.00\">+</text>\n",
       "</g>\n",
       "<!-- 140642956440240+&#45;&gt;140642956440240 -->\n",
       "<g id=\"edge1\" class=\"edge\">\n",
       "<title>140642956440240+&#45;&gt;140642956440240</title>\n",
       "<path fill=\"none\" stroke=\"black\" d=\"M484,-45.5C491.81,-45.5 500.78,-45.5 510.08,-45.5\"/>\n",
       "<polygon fill=\"black\" stroke=\"black\" points=\"510.25,-49 520.25,-45.5 510.25,-42 510.25,-49\"/>\n",
       "</g>\n",
       "<!-- 140642956440864 -->\n",
       "<g id=\"node3\" class=\"node\">\n",
       "<title>140642956440864</title>\n",
       "<polygon fill=\"none\" stroke=\"black\" points=\"775,-54.5 775,-90.5 908,-90.5 908,-54.5 775,-54.5\"/>\n",
       "<text text-anchor=\"middle\" x=\"788\" y=\"-68.8\" font-family=\"Times,serif\" font-size=\"14.00\">L</text>\n",
       "<polyline fill=\"none\" stroke=\"black\" points=\"801,-54.5 801,-90.5 \"/>\n",
       "<text text-anchor=\"middle\" x=\"854.5\" y=\"-68.8\" font-family=\"Times,serif\" font-size=\"14.00\">data &#45;8.0000</text>\n",
       "</g>\n",
       "<!-- 140642956440864*&#45;&gt;140642956440864 -->\n",
       "<g id=\"edge2\" class=\"edge\">\n",
       "<title>140642956440864*&#45;&gt;140642956440864</title>\n",
       "<path fill=\"none\" stroke=\"black\" d=\"M739.11,-72.5C746.81,-72.5 755.66,-72.5 764.85,-72.5\"/>\n",
       "<polygon fill=\"black\" stroke=\"black\" points=\"764.92,-76 774.92,-72.5 764.92,-69 764.92,-76\"/>\n",
       "</g>\n",
       "<!-- 140642956495168 -->\n",
       "<g id=\"node5\" class=\"node\">\n",
       "<title>140642956495168</title>\n",
       "<polygon fill=\"none\" stroke=\"black\" points=\"3,-83.5 3,-119.5 130,-119.5 130,-83.5 3,-83.5\"/>\n",
       "<text text-anchor=\"middle\" x=\"15.5\" y=\"-97.8\" font-family=\"Times,serif\" font-size=\"14.00\">a</text>\n",
       "<polyline fill=\"none\" stroke=\"black\" points=\"28,-83.5 28,-119.5 \"/>\n",
       "<text text-anchor=\"middle\" x=\"79\" y=\"-97.8\" font-family=\"Times,serif\" font-size=\"14.00\">data 2.0000</text>\n",
       "</g>\n",
       "<!-- 140642956440912* -->\n",
       "<g id=\"node7\" class=\"node\">\n",
       "<title>140642956440912*</title>\n",
       "<ellipse fill=\"none\" stroke=\"black\" cx=\"196\" cy=\"-73.5\" rx=\"27\" ry=\"18\"/>\n",
       "<text text-anchor=\"middle\" x=\"196\" y=\"-69.8\" font-family=\"Times,serif\" font-size=\"14.00\">*</text>\n",
       "</g>\n",
       "<!-- 140642956495168&#45;&gt;140642956440912* -->\n",
       "<g id=\"edge5\" class=\"edge\">\n",
       "<title>140642956495168&#45;&gt;140642956440912*</title>\n",
       "<path fill=\"none\" stroke=\"black\" d=\"M130.13,-87.75C140.47,-85.48 150.85,-83.2 160.18,-81.15\"/>\n",
       "<polygon fill=\"black\" stroke=\"black\" points=\"161.2,-84.51 170.21,-78.94 159.69,-77.67 161.2,-84.51\"/>\n",
       "</g>\n",
       "<!-- 140642956440912 -->\n",
       "<g id=\"node6\" class=\"node\">\n",
       "<title>140642956440912</title>\n",
       "<polygon fill=\"none\" stroke=\"black\" points=\"260.5,-55.5 260.5,-91.5 392.5,-91.5 392.5,-55.5 260.5,-55.5\"/>\n",
       "<text text-anchor=\"middle\" x=\"273\" y=\"-69.8\" font-family=\"Times,serif\" font-size=\"14.00\">e</text>\n",
       "<polyline fill=\"none\" stroke=\"black\" points=\"285.5,-55.5 285.5,-91.5 \"/>\n",
       "<text text-anchor=\"middle\" x=\"339\" y=\"-69.8\" font-family=\"Times,serif\" font-size=\"14.00\">data &#45;6.0000</text>\n",
       "</g>\n",
       "<!-- 140642956440912&#45;&gt;140642956440240+ -->\n",
       "<g id=\"edge4\" class=\"edge\">\n",
       "<title>140642956440912&#45;&gt;140642956440240+</title>\n",
       "<path fill=\"none\" stroke=\"black\" d=\"M392.5,-59.34C402.35,-57.19 412.17,-55.05 421.04,-53.12\"/>\n",
       "<polygon fill=\"black\" stroke=\"black\" points=\"421.94,-56.5 430.96,-50.96 420.45,-49.67 421.94,-56.5\"/>\n",
       "</g>\n",
       "<!-- 140642956440912*&#45;&gt;140642956440912 -->\n",
       "<g id=\"edge3\" class=\"edge\">\n",
       "<title>140642956440912*&#45;&gt;140642956440912</title>\n",
       "<path fill=\"none\" stroke=\"black\" d=\"M223,-73.5C231.11,-73.5 240.5,-73.5 250.24,-73.5\"/>\n",
       "<polygon fill=\"black\" stroke=\"black\" points=\"250.47,-77 260.47,-73.5 250.47,-70 250.47,-77\"/>\n",
       "</g>\n",
       "<!-- 140642956165952 -->\n",
       "<g id=\"node8\" class=\"node\">\n",
       "<title>140642956165952</title>\n",
       "<polygon fill=\"none\" stroke=\"black\" points=\"520,-82.5 520,-118.5 649,-118.5 649,-82.5 520,-82.5\"/>\n",
       "<text text-anchor=\"middle\" x=\"531\" y=\"-96.8\" font-family=\"Times,serif\" font-size=\"14.00\">f</text>\n",
       "<polyline fill=\"none\" stroke=\"black\" points=\"542,-82.5 542,-118.5 \"/>\n",
       "<text text-anchor=\"middle\" x=\"595.5\" y=\"-96.8\" font-family=\"Times,serif\" font-size=\"14.00\">data &#45;2.0000</text>\n",
       "</g>\n",
       "<!-- 140642956165952&#45;&gt;140642956440864* -->\n",
       "<g id=\"edge8\" class=\"edge\">\n",
       "<title>140642956165952&#45;&gt;140642956440864*</title>\n",
       "<path fill=\"none\" stroke=\"black\" d=\"M649.35,-86.25C658.65,-84.18 667.92,-82.11 676.33,-80.23\"/>\n",
       "<polygon fill=\"black\" stroke=\"black\" points=\"677.13,-83.64 686.13,-78.05 675.6,-76.81 677.13,-83.64\"/>\n",
       "</g>\n",
       "<!-- 140642956495216 -->\n",
       "<g id=\"node9\" class=\"node\">\n",
       "<title>140642956495216</title>\n",
       "<polygon fill=\"none\" stroke=\"black\" points=\"0,-28.5 0,-64.5 133,-64.5 133,-28.5 0,-28.5\"/>\n",
       "<text text-anchor=\"middle\" x=\"13\" y=\"-42.8\" font-family=\"Times,serif\" font-size=\"14.00\">b</text>\n",
       "<polyline fill=\"none\" stroke=\"black\" points=\"26,-28.5 26,-64.5 \"/>\n",
       "<text text-anchor=\"middle\" x=\"79.5\" y=\"-42.8\" font-family=\"Times,serif\" font-size=\"14.00\">data &#45;3.0000</text>\n",
       "</g>\n",
       "<!-- 140642956495216&#45;&gt;140642956440912* -->\n",
       "<g id=\"edge7\" class=\"edge\">\n",
       "<title>140642956495216&#45;&gt;140642956440912*</title>\n",
       "<path fill=\"none\" stroke=\"black\" d=\"M133.12,-60.4C142.49,-62.38 151.8,-64.35 160.25,-66.14\"/>\n",
       "<polygon fill=\"black\" stroke=\"black\" points=\"159.57,-69.58 170.08,-68.22 161.02,-62.73 159.57,-69.58\"/>\n",
       "</g>\n",
       "<!-- 140642956495264 -->\n",
       "<g id=\"node10\" class=\"node\">\n",
       "<title>140642956495264</title>\n",
       "<polygon fill=\"none\" stroke=\"black\" points=\"259,-0.5 259,-36.5 394,-36.5 394,-0.5 259,-0.5\"/>\n",
       "<text text-anchor=\"middle\" x=\"271\" y=\"-14.8\" font-family=\"Times,serif\" font-size=\"14.00\">c</text>\n",
       "<polyline fill=\"none\" stroke=\"black\" points=\"283,-0.5 283,-36.5 \"/>\n",
       "<text text-anchor=\"middle\" x=\"338.5\" y=\"-14.8\" font-family=\"Times,serif\" font-size=\"14.00\">data 10.0000</text>\n",
       "</g>\n",
       "<!-- 140642956495264&#45;&gt;140642956440240+ -->\n",
       "<g id=\"edge6\" class=\"edge\">\n",
       "<title>140642956495264&#45;&gt;140642956440240+</title>\n",
       "<path fill=\"none\" stroke=\"black\" d=\"M394.01,-32.47C403.41,-34.45 412.75,-36.41 421.22,-38.19\"/>\n",
       "<polygon fill=\"black\" stroke=\"black\" points=\"420.56,-41.63 431.06,-40.26 422,-34.78 420.56,-41.63\"/>\n",
       "</g>\n",
       "</g>\n",
       "</svg>\n"
      ],
      "text/plain": [
       "<graphviz.graphs.Digraph at 0x7fe9fd6e12b0>"
      ]
     },
     "execution_count": 25,
     "metadata": {},
     "output_type": "execute_result"
    }
   ],
   "source": [
    "draw_dot(L)"
   ]
  }
 ],
 "metadata": {
  "kernelspec": {
   "display_name": "Python 3",
   "language": "python",
   "name": "python3"
  },
  "language_info": {
   "codemirror_mode": {
    "name": "ipython",
    "version": 3
   },
   "file_extension": ".py",
   "mimetype": "text/x-python",
   "name": "python",
   "nbconvert_exporter": "python",
   "pygments_lexer": "ipython3",
   "version": "3.8.10"
  }
 },
 "nbformat": 4,
 "nbformat_minor": 2
}
